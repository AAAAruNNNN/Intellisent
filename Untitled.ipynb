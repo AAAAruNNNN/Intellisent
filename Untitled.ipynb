{
 "cells": [
  {
   "cell_type": "code",
   "execution_count": 1,
   "metadata": {},
   "outputs": [
    {
     "ename": "ModuleNotFoundError",
     "evalue": "No module named 'Twper'",
     "output_type": "error",
     "traceback": [
      "\u001b[0;31m---------------------------------------------------------------------------\u001b[0m",
      "\u001b[0;31mModuleNotFoundError\u001b[0m                       Traceback (most recent call last)",
      "\u001b[0;32m<ipython-input-1-65556207c7f6>\u001b[0m in \u001b[0;36m<module>\u001b[0;34m()\u001b[0m\n\u001b[0;32m----> 1\u001b[0;31m \u001b[0;32mfrom\u001b[0m \u001b[0mTwper\u001b[0m \u001b[0;32mimport\u001b[0m \u001b[0;34m*\u001b[0m\u001b[0;34m\u001b[0m\u001b[0m\n\u001b[0m\u001b[1;32m      2\u001b[0m \u001b[0;32mimport\u001b[0m \u001b[0masyncio\u001b[0m\u001b[0;34m\u001b[0m\u001b[0m\n\u001b[1;32m      3\u001b[0m \u001b[0;32mimport\u001b[0m \u001b[0mcsv\u001b[0m\u001b[0;34m\u001b[0m\u001b[0m\n\u001b[1;32m      4\u001b[0m \u001b[0;32mimport\u001b[0m \u001b[0mpandas\u001b[0m \u001b[0;32mas\u001b[0m \u001b[0mpd\u001b[0m\u001b[0;34m\u001b[0m\u001b[0m\n\u001b[1;32m      5\u001b[0m \u001b[0;34m\u001b[0m\u001b[0m\n",
      "\u001b[0;31mModuleNotFoundError\u001b[0m: No module named 'Twper'"
     ]
    }
   ],
   "source": [
    "from Twper import *\n",
    "import asyncio\n",
    "import csv\n",
    "import pandas as pd\n",
    "\n",
    "fieldnames = ['user', 'fullname', 'tweet_id', 'url', 'timestamp', 'text', 'replies', 'retweets', 'likes', 'hashtags']\n",
    "\n",
    "df2 = pd.read_csv('data.csv')\n",
    "a\n",
    "async def main():\n",
    "    # Example 1: A simple search using Query\n",
    "    q = Query('The Walking Dead', limit=10000)\n",
    "    async for tw in q.get_tweets():\n",
    "        # Process data\n",
    "        if not (df2[  df2['tweet_id'] == tw.tweet_id ].any):\n",
    "            scraped_dict.append({'user': tw.user, 'fullname': tw.fullname, 'tweet_id': tw.tweet_id, 'url': tw.url, 'timestamp': tw.timestamp, 'text': tw.text, 'replies': tw.replies, 'retweets': tw.retweets, 'likes': tw.likes, 'hashtags': tw.hashtags})\n",
    "        else:\n",
    "            print(\"skipped a tweet\")\n",
    "\n",
    "# This actually runs the main function\n",
    "loop = asyncio.get_event_loop()\n",
    "try:\n",
    "        scraped_dict = [] \n",
    "        loop.run_until_complete(main())\n",
    "        loop.run_until_complete(loop.shutdown_asyncgens())\n",
    "finally:\n",
    "    df = pd.DataFrame(scraped_dict, columns=fieldnames)\n",
    "    df.to_csv('scraped.csv', index=False, header=True)\n",
    "    loop.close()\n"
   ]
  },
  {
   "cell_type": "code",
   "execution_count": null,
   "metadata": {},
   "outputs": [],
   "source": []
  },
  {
   "cell_type": "code",
   "execution_count": null,
   "metadata": {},
   "outputs": [],
   "source": []
  },
  {
   "cell_type": "code",
   "execution_count": null,
   "metadata": {},
   "outputs": [],
   "source": []
  }
 ],
 "metadata": {
  "kernelspec": {
   "display_name": "venv",
   "language": "python",
   "name": "venv"
  },
  "language_info": {
   "codemirror_mode": {
    "name": "ipython",
    "version": 3
   },
   "file_extension": ".py",
   "mimetype": "text/x-python",
   "name": "python",
   "nbconvert_exporter": "python",
   "pygments_lexer": "ipython3",
   "version": "3.6.4"
  }
 },
 "nbformat": 4,
 "nbformat_minor": 2
}
